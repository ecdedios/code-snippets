{
 "cells": [
  {
   "cell_type": "markdown",
   "id": "a1826adb-5905-49d3-b089-402672f1b6fa",
   "metadata": {},
   "source": [
    "# RESEARCH ASSISTANT\n",
    "\n",
    "- course - https://academy.langchain.com/courses/take/intro-to-langgraph/lessons/58238107-course-overview\n",
    "- code - https://github.com/langchain-ai/langchain-academy/blob/main/module-4/research-assistant.ipynb"
   ]
  },
  {
   "cell_type": "code",
   "execution_count": null,
   "id": "16a0f164-bbfa-449a-beb7-db05f1547a94",
   "metadata": {},
   "outputs": [],
   "source": []
  }
 ],
 "metadata": {
  "kernelspec": {
   "display_name": "Python 3 (ipykernel)",
   "language": "python",
   "name": "python3"
  },
  "language_info": {
   "codemirror_mode": {
    "name": "ipython",
    "version": 3
   },
   "file_extension": ".py",
   "mimetype": "text/x-python",
   "name": "python",
   "nbconvert_exporter": "python",
   "pygments_lexer": "ipython3",
   "version": "3.11.9"
  }
 },
 "nbformat": 4,
 "nbformat_minor": 5
}
