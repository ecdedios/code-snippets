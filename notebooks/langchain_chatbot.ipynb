{
 "cells": [
  {
   "cell_type": "markdown",
   "id": "f1ef11a4-20fa-4629-8c4b-053469c37b40",
   "metadata": {},
   "source": [
    "# Build a Chatbot using LangChain\n",
    "\n",
    "https://python.langchain.com/docs/tutorials/chatbot/"
   ]
  },
  {
   "cell_type": "code",
   "execution_count": null,
   "id": "a162f293-b299-4ec3-bc61-1233ee82e9c6",
   "metadata": {},
   "outputs": [],
   "source": []
  }
 ],
 "metadata": {
  "kernelspec": {
   "display_name": "Python 3 (ipykernel)",
   "language": "python",
   "name": "python3"
  },
  "language_info": {
   "codemirror_mode": {
    "name": "ipython",
    "version": 3
   },
   "file_extension": ".py",
   "mimetype": "text/x-python",
   "name": "python",
   "nbconvert_exporter": "python",
   "pygments_lexer": "ipython3",
   "version": "3.11.9"
  }
 },
 "nbformat": 4,
 "nbformat_minor": 5
}
