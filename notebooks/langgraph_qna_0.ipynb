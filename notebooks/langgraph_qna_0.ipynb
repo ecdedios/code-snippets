{
 "cells": [
  {
   "cell_type": "markdown",
   "id": "fb018503-5c16-4a83-83a7-e843f699a7fd",
   "metadata": {},
   "source": [
    "# Question and Answer Application\n",
    "\n",
    "## LLM model"
   ]
  },
  {
   "cell_type": "code",
   "execution_count": 1,
   "id": "65c97f9a-331a-4867-8fe9-cddb1c8f5f95",
   "metadata": {},
   "outputs": [],
   "source": [
    "from langchain_openai import ChatOpenAI\n",
    "llm = ChatOpenAI(model=\"gpt-4o-mini\", temperature=0)"
   ]
  },
  {
   "cell_type": "markdown",
   "id": "14e09a23-b333-4ed4-b3ff-d2d170bda9ea",
   "metadata": {},
   "source": [
    "## LangSmith Tracing"
   ]
  },
  {
   "cell_type": "code",
   "execution_count": 2,
   "id": "a7c5f47e-4c20-447b-a7f7-571552b83578",
   "metadata": {},
   "outputs": [],
   "source": [
    "import os\n",
    "\n",
    "os.environ[\"LANGCHAIN_TRACING_V2\"] = \"true\"\n",
    "os.environ[\"LANGCHAIN_PROJECT\"] = \"langgraph_qna\""
   ]
  },
  {
   "cell_type": "markdown",
   "id": "2adf9f37-1a5f-4a25-89e4-9c58a5f2e592",
   "metadata": {},
   "source": [
    "## Generate interview panel members"
   ]
  },
  {
   "cell_type": "code",
   "execution_count": 3,
   "id": "8664485d-9df7-43d9-a6da-1a2d181d98ca",
   "metadata": {},
   "outputs": [],
   "source": [
    "from typing import List\n",
    "from typing_extensions import TypedDict\n",
    "from pydantic import BaseModel, Field\n",
    "\n",
    "class Interviewer(BaseModel):\n",
    "    affiliation: str = Field(\n",
    "        description=\"Primary affiliation of the interviewer.\",\n",
    "    )\n",
    "    name: str = Field(\n",
    "        description=\"Name of the interviewer.\"\n",
    "    )\n",
    "    role: str = Field(\n",
    "        description=\"Role of the interviewer in the context of the topic.\",\n",
    "    )\n",
    "    description: str = Field(\n",
    "        description=\"Description of the interviewer focus, concerns, and motives.\",\n",
    "    )\n",
    "    @property\n",
    "    def persona(self) -> str:\n",
    "        return f\"Name: {self.name}\\nRole: {self.role}\\nAffiliation: {self.affiliation}\\nDescription: {self.description}\\n\"\n",
    "\n",
    "class Perspectives(BaseModel):\n",
    "    interviewers: List[Interviewer] = Field(\n",
    "        description=\"Comprehensive list of interviewers with their roles and affiliations.\",\n",
    "    )\n",
    "\n",
    "class GenerateInterviewersState(TypedDict):\n",
    "    topic: str # Research topic\n",
    "    max_interviewers: int # Number of interviewers\n",
    "    human_interviewer_feedback: str # Human feedback\n",
    "    interviewers: List[Interviewer] # Interviewer asking questions"
   ]
  },
  {
   "cell_type": "code",
   "execution_count": 4,
   "id": "15620a38-e7c5-4795-a17b-2c37732971cf",
   "metadata": {},
   "outputs": [
    {
     "data": {
      "image/jpeg": "[encoded data removed]",
      "text/plain": [
       "<IPython.core.display.Image object>"
      ]
     },
     "metadata": {},
     "output_type": "display_data"
    }
   ],
   "source": [
    "from IPython.display import Image, display\n",
    "from langgraph.graph import START, END, StateGraph\n",
    "from langgraph.checkpoint.memory import MemorySaver\n",
    "from langchain_core.messages import AIMessage, HumanMessage, SystemMessage\n",
    "\n",
    "interviewer_instructions=\"\"\"You are tasked with creating a set of AI interviewer personas. Follow these instructions carefully:\n",
    "\n",
    "1. First, review the research topic:\n",
    "{topic}\n",
    "        \n",
    "2. Examine any editorial feedback that has been optionally provided to guide creation of the interviewers: \n",
    "        \n",
    "{human_interviewer_feedback}\n",
    "    \n",
    "3. Determine the most interesting themes based upon documents and / or feedback above.\n",
    "                    \n",
    "4. Pick the top {max_interviewers} themes.\n",
    "\n",
    "5. Assign one interviewer to each theme.\"\"\"\n",
    "\n",
    "def create_interviewers(state: GenerateInterviewersState):\n",
    "    \n",
    "    \"\"\" Create interviewers \"\"\"\n",
    "    \n",
    "    topic=state['topic']\n",
    "    max_interviewers=state['max_interviewers']\n",
    "    human_interviewer_feedback=state.get('human_interviewer_feedback', '')\n",
    "        \n",
    "    # Enforce structured output\n",
    "    structured_llm = llm.with_structured_output(Perspectives)\n",
    "\n",
    "    # System message\n",
    "    system_message = interviewer_instructions.format(topic=topic,\n",
    "                                                            human_interviewer_feedback=human_interviewer_feedback, \n",
    "                                                            max_interviewers=max_interviewers)\n",
    "\n",
    "    # Generate question \n",
    "    interviewers = structured_llm.invoke([SystemMessage(content=system_message)]+[HumanMessage(content=\"Generate the set of interviewers.\")])\n",
    "    \n",
    "    # Write the list of analysis to state\n",
    "    return {\"interviewers\": interviewers.interviewers}\n",
    "\n",
    "def human_feedback(state: GenerateInterviewersState):\n",
    "    \"\"\" No-op node that should be interrupted on \"\"\"\n",
    "    pass\n",
    "\n",
    "def should_continue(state: GenerateInterviewersState):\n",
    "    \"\"\" Return the next node to execute \"\"\"\n",
    "\n",
    "    # Check if human feedback\n",
    "    human_interviewer_feedback=state.get('human_interviewer_feedback', None)\n",
    "    if human_interviewer_feedback:\n",
    "        return \"create_interviewers\"\n",
    "    \n",
    "    # Otherwise end\n",
    "    return END\n",
    "\n",
    "# Add nodes and edges \n",
    "builder = StateGraph(GenerateInterviewersState)\n",
    "builder.add_node(\"create_interviewers\", create_interviewers)\n",
    "builder.add_node(\"human_feedback\", human_feedback)\n",
    "builder.add_edge(START, \"create_interviewers\")\n",
    "builder.add_edge(\"create_interviewers\", \"human_feedback\")\n",
    "builder.add_conditional_edges(\"human_feedback\", should_continue, [\"create_interviewers\", END])\n",
    "\n",
    "# Compile\n",
    "memory = MemorySaver()\n",
    "graph = builder.compile(interrupt_before=['human_feedback'], checkpointer=memory)\n",
    "\n",
    "# View\n",
    "display(Image(graph.get_graph(xray=1).draw_mermaid_png()))"
   ]
  },
  {
   "cell_type": "code",
   "execution_count": 5,
   "id": "c8eb0ddf-8c5d-438d-9f9e-b1c8c6d6f37f",
   "metadata": {},
   "outputs": [
    {
     "name": "stdout",
     "output_type": "stream",
     "text": [
      "Name: Dr. Alice Chen\n",
      "Affiliation: Tech Innovations Inc.\n",
      "Role: AI Researcher\n",
      "Description: Dr. Chen focuses on the intersection of AI and natural language processing, exploring how language models can be improved for better understanding and generation of human language.\n",
      "--------------------------------------------------\n",
      "Name: Prof. John Smith\n",
      "Affiliation: University of Linguistics\n",
      "Role: Linguist\n",
      "Description: Prof. Smith specializes in the study of language structure and semantics, providing insights into how language models can be aligned with linguistic theories.\n",
      "--------------------------------------------------\n",
      "Name: Ms. Sarah Johnson\n",
      "Affiliation: Data Ethics Council\n",
      "Role: Ethics Analyst\n",
      "Description: Ms. Johnson examines the ethical implications of AI technologies, particularly in language processing, and advocates for responsible AI development and deployment.\n",
      "--------------------------------------------------\n"
     ]
    }
   ],
   "source": [
    "# Input\n",
    "max_interviewers = 3 \n",
    "topic = \"LangGraph interview questions\"\n",
    "thread = {\"configurable\": {\"thread_id\": \"dd001\"}}\n",
    "\n",
    "# Run the graph until the first interruption\n",
    "for event in graph.stream({\"topic\":topic,\"max_interviewers\":max_interviewers,}, thread, stream_mode=\"values\"):\n",
    "    # Review\n",
    "    interviewers = event.get('interviewers', '')\n",
    "    if interviewers:\n",
    "        for interviewer in interviewers:\n",
    "            print(f\"Name: {interviewer.name}\")\n",
    "            print(f\"Affiliation: {interviewer.affiliation}\")\n",
    "            print(f\"Role: {interviewer.role}\")\n",
    "            print(f\"Description: {interviewer.description}\")\n",
    "            print(\"-\" * 50)"
   ]
  },
  {
   "cell_type": "code",
   "execution_count": 6,
   "id": "58eecf47-add2-467c-9ba4-751f9c40f8d6",
   "metadata": {},
   "outputs": [
    {
     "data": {
      "text/plain": [
       "('human_feedback',)"
      ]
     },
     "execution_count": 6,
     "metadata": {},
     "output_type": "execute_result"
    }
   ],
   "source": [
    "# Get state and look at next node\n",
    "state = graph.get_state(thread)\n",
    "state.next"
   ]
  },
  {
   "cell_type": "code",
   "execution_count": 7,
   "id": "f3302848-b7eb-4cf5-b9a9-e043f0399aff",
   "metadata": {},
   "outputs": [
    {
     "data": {
      "text/plain": [
       "{'configurable': {'thread_id': 'dd001',\n",
       "  'checkpoint_ns': '',\n",
       "  'checkpoint_id': '1ef8cc99-63ef-6a41-8002-ec33893b01dd'}}"
      ]
     },
     "execution_count": 7,
     "metadata": {},
     "output_type": "execute_result"
    }
   ],
   "source": [
    "# We now update the state as if we are the human_feedback node\n",
    "graph.update_state(thread, {\"human_interviewer_feedback\": \n",
    "                            \"Remove duplicates\"}, as_node=\"human_feedback\")"
   ]
  },
  {
   "cell_type": "code",
   "execution_count": 8,
   "id": "9f1408ab-6d95-4861-a043-7d3fdd411662",
   "metadata": {},
   "outputs": [
    {
     "name": "stdout",
     "output_type": "stream",
     "text": [
      "Name: Dr. Alice Chen\n",
      "Affiliation: Tech Innovations Inc.\n",
      "Role: AI Researcher\n",
      "Description: Dr. Chen focuses on the intersection of AI and natural language processing, exploring how language models can be improved for better understanding and generation of human language.\n",
      "--------------------------------------------------\n",
      "Name: Prof. John Smith\n",
      "Affiliation: University of Linguistics\n",
      "Role: Linguist\n",
      "Description: Prof. Smith specializes in the study of language structure and semantics, providing insights into how language models can be aligned with linguistic theories.\n",
      "--------------------------------------------------\n",
      "Name: Ms. Sarah Johnson\n",
      "Affiliation: Data Ethics Council\n",
      "Role: Ethics Analyst\n",
      "Description: Ms. Johnson examines the ethical implications of AI technologies, particularly in language processing, and advocates for responsible AI development and deployment.\n",
      "--------------------------------------------------\n",
      "Name: Dr. Emily Carter\n",
      "Affiliation: Tech Innovations Inc.\n",
      "Role: AI Researcher\n",
      "Description: Dr. Carter focuses on the intersection of AI and natural language processing, exploring how LangGraph can enhance communication and understanding in AI systems.\n",
      "--------------------------------------------------\n",
      "Name: Mr. James Lee\n",
      "Affiliation: Data Science Hub\n",
      "Role: Data Analyst\n",
      "Description: Mr. Lee specializes in data visualization and analytics, interested in how LangGraph can be utilized to interpret complex datasets and improve decision-making processes.\n",
      "--------------------------------------------------\n",
      "Name: Prof. Sarah Thompson\n",
      "Affiliation: Educational Technology Group\n",
      "Role: Educational Researcher\n",
      "Description: Prof. Thompson investigates the applications of LangGraph in educational settings, aiming to enhance learning experiences through AI-driven tools.\n",
      "--------------------------------------------------\n"
     ]
    }
   ],
   "source": [
    "# Continue the graph execution\n",
    "for event in graph.stream(None, thread, stream_mode=\"values\"):\n",
    "    # Review\n",
    "    interviewers = event.get('interviewers', '')\n",
    "    if interviewers:\n",
    "        for interviewer in interviewers:\n",
    "            print(f\"Name: {interviewer.name}\")\n",
    "            print(f\"Affiliation: {interviewer.affiliation}\")\n",
    "            print(f\"Role: {interviewer.role}\")\n",
    "            print(f\"Description: {interviewer.description}\")\n",
    "            print(\"-\" * 50) "
   ]
  },
  {
   "cell_type": "code",
   "execution_count": 9,
   "id": "24b6404b-2284-416a-a42d-e6cb1dd14e6c",
   "metadata": {},
   "outputs": [
    {
     "data": {
      "text/plain": [
       "{'configurable': {'thread_id': 'dd001',\n",
       "  'checkpoint_ns': '',\n",
       "  'checkpoint_id': '1ef8cc99-77f3-6f81-8004-a053b483fd76'}}"
      ]
     },
     "execution_count": 9,
     "metadata": {},
     "output_type": "execute_result"
    }
   ],
   "source": [
    "# If we are satisfied, then we simply supply no feedback\n",
    "further_feedack = None\n",
    "graph.update_state(thread, {\"human_interviewer_feedback\": \n",
    "                            further_feedack}, as_node=\"human_feedback\")"
   ]
  },
  {
   "cell_type": "code",
   "execution_count": 10,
   "id": "c9c01eba-d7d2-4c23-be81-419ac8fcf726",
   "metadata": {},
   "outputs": [],
   "source": [
    "# Continue the graph execution to end\n",
    "for event in graph.stream(None, thread, stream_mode=\"updates\"):\n",
    "    print(\"--Node--\")\n",
    "    node_name = next(iter(event.keys()))\n",
    "    print(node_name)"
   ]
  },
  {
   "cell_type": "code",
   "execution_count": 11,
   "id": "8c28e9e1-a78e-4a2e-8f31-bb6ff75281ee",
   "metadata": {},
   "outputs": [],
   "source": [
    "final_state = graph.get_state(thread)\n",
    "interviewers = final_state.values.get('interviewers')"
   ]
  },
  {
   "cell_type": "code",
   "execution_count": 12,
   "id": "44e979ff-3127-4f97-af31-b920c2bee795",
   "metadata": {},
   "outputs": [
    {
     "data": {
      "text/plain": [
       "()"
      ]
     },
     "execution_count": 12,
     "metadata": {},
     "output_type": "execute_result"
    }
   ],
   "source": [
    "final_state.next"
   ]
  },
  {
   "cell_type": "code",
   "execution_count": 13,
   "id": "258f8cb7-0918-4fe2-9383-08a3d3cf9e8c",
   "metadata": {},
   "outputs": [
    {
     "name": "stdout",
     "output_type": "stream",
     "text": [
      "Name: Dr. Emily Carter\n",
      "Affiliation: Tech Innovations Inc.\n",
      "Role: AI Researcher\n",
      "Description: Dr. Carter focuses on the intersection of AI and natural language processing, exploring how LangGraph can enhance communication and understanding in AI systems.\n",
      "----------------------------------------------------------------------------------------------------\n",
      "Name: Mr. James Lee\n",
      "Affiliation: Data Science Hub\n",
      "Role: Data Analyst\n",
      "Description: Mr. Lee specializes in data visualization and analytics, interested in how LangGraph can be utilized to interpret complex datasets and improve decision-making processes.\n",
      "----------------------------------------------------------------------------------------------------\n",
      "Name: Prof. Sarah Thompson\n",
      "Affiliation: Educational Technology Group\n",
      "Role: Educational Researcher\n",
      "Description: Prof. Thompson investigates the applications of LangGraph in educational settings, aiming to enhance learning experiences through AI-driven tools.\n",
      "----------------------------------------------------------------------------------------------------\n"
     ]
    }
   ],
   "source": [
    "for interviewer in interviewers:\n",
    "    print(f\"Name: {interviewer.name}\")\n",
    "    print(f\"Affiliation: {interviewer.affiliation}\")\n",
    "    print(f\"Role: {interviewer.role}\")\n",
    "    print(f\"Description: {interviewer.description}\")\n",
    "    print(\"-\" * 100) "
   ]
  },
  {
   "cell_type": "markdown",
   "id": "e0f36090-18eb-40bb-a9b4-1def721f3230",
   "metadata": {},
   "source": [
    "# Generate interview questions"
   ]
  },
  {
   "cell_type": "code",
   "execution_count": 14,
   "id": "230722d1-20d3-4251-8160-32c597e9ae85",
   "metadata": {},
   "outputs": [],
   "source": [
    "import operator\n",
    "from typing import  Annotated\n",
    "from langgraph.graph import MessagesState\n",
    "\n",
    "class InterviewState(MessagesState):\n",
    "    max_num_turns: int # Number turns of conversation\n",
    "    context: Annotated[list, operator.add] # Source docs\n",
    "    interviewer: Interviewer # Interviewer asking questions\n",
    "    interview: str # Interview transcript\n",
    "    sections: list # Final key we duplicate in outer state for Send() API\n",
    "\n",
    "class SearchQuery(BaseModel):\n",
    "    search_query: str = Field(None, description=\"Search query for retrieval.\")"
   ]
  },
  {
   "cell_type": "code",
   "execution_count": 16,
   "id": "813bb078-798a-427d-a19f-4d3c8d379c05",
   "metadata": {},
   "outputs": [],
   "source": [
    "question_instructions = \"\"\"You are an interviewer tasked with interviewing an expert to generate a list of questions and answers about a specific topic. \n",
    "\n",
    "Your goal is boil down to interesting and specific insights related to your topic, and then compose questions related to those insights.\n",
    "\n",
    "1. Interesting: Insights that people will find surprising or non-obvious.\n",
    "        \n",
    "2. Specific: Insights that avoid generalities and include specific examples from the expert.\n",
    "\n",
    "Here is your topic of focus and set of goals: {goals}\n",
    "        \n",
    "Begin by introducing yourself using a name that fits your persona, and then ask your question.\n",
    "\n",
    "Continue to ask questions to drill down and refine your understanding of the topic.\n",
    "        \n",
    "When you are satisfied with your understanding, complete the interview with: \"Thank you so much for your help!\"\n",
    "\n",
    "Remember to stay in character throughout your response, reflecting the persona and goals provided to you.\"\"\"\n",
    "\n",
    "def generate_question(state: InterviewState):\n",
    "    \"\"\" Node to generate a question \"\"\"\n",
    "\n",
    "    # Get state\n",
    "    interviewer = state[\"interviewer\"]\n",
    "    messages = state[\"messages\"]\n",
    "\n",
    "    # Generate question \n",
    "    system_message = question_instructions.format(goals=interviewer.persona)\n",
    "    question = llm.invoke([SystemMessage(content=system_message)]+messages)\n",
    "        \n",
    "    # Write messages to state\n",
    "    return {\"messages\": [question]}"
   ]
  },
  {
   "cell_type": "markdown",
   "id": "07a6d799-d9ed-47f6-b620-f78a772342b2",
   "metadata": {},
   "source": [
    "# Generate Questions and Answers"
   ]
  },
  {
   "cell_type": "code",
   "execution_count": 17,
   "id": "ffbd66e4-73b9-47b5-9b11-8f9a43027743",
   "metadata": {},
   "outputs": [],
   "source": [
    "# Web search tool\n",
    "from langchain_community.tools.tavily_search import TavilySearchResults\n",
    "tavily_search = TavilySearchResults(max_results=3)"
   ]
  },
  {
   "cell_type": "code",
   "execution_count": 18,
   "id": "a6eb6238-0ccd-4f2e-96c3-89e914f60b58",
   "metadata": {},
   "outputs": [],
   "source": [
    "# Wikipedia search tool\n",
    "from langchain_community.document_loaders import WikipediaLoader"
   ]
  },
  {
   "cell_type": "code",
   "execution_count": 19,
   "id": "e38fb547-7e50-4168-a587-945d434f260d",
   "metadata": {},
   "outputs": [
    {
     "data": {
      "image/jpeg": "[encoded data removed]",
      "text/plain": [
       "<IPython.core.display.Image object>"
      ]
     },
     "metadata": {},
     "output_type": "display_data"
    }
   ],
   "source": [
    "from langchain_core.messages import get_buffer_string\n",
    "\n",
    "# Search query writing\n",
    "search_instructions = SystemMessage(content=f\"\"\"You will be given a conversation between an interviewer and an expert. \n",
    "\n",
    "Your goal is to generate a well-structured query for use in retrieval and / or web-search related to the conversation.\n",
    "        \n",
    "First, analyze the full conversation.\n",
    "\n",
    "Pay particular attention to the final question posed by the interviewer.\n",
    "\n",
    "Convert this final question into a well-structured web search query\"\"\")\n",
    "\n",
    "def search_web(state: InterviewState):\n",
    "    \n",
    "    \"\"\" Retrieve docs from web search \"\"\"\n",
    "\n",
    "    # Search query\n",
    "    structured_llm = llm.with_structured_output(SearchQuery)\n",
    "    search_query = structured_llm.invoke([search_instructions]+state['messages'])\n",
    "    \n",
    "    # Search\n",
    "    search_docs = tavily_search.invoke(search_query.search_query)\n",
    "\n",
    "     # Format\n",
    "    formatted_search_docs = \"\\n\\n---\\n\\n\".join(\n",
    "        [\n",
    "            f'<Document href=\"{doc[\"url\"]}\"/>\\n{doc[\"content\"]}\\n</Document>'\n",
    "            for doc in search_docs\n",
    "        ]\n",
    "    )\n",
    "\n",
    "    return {\"context\": [formatted_search_docs]} \n",
    "\n",
    "def search_wikipedia(state: InterviewState):\n",
    "    \n",
    "    \"\"\" Retrieve docs from wikipedia \"\"\"\n",
    "\n",
    "    # Search query\n",
    "    structured_llm = llm.with_structured_output(SearchQuery)\n",
    "    search_query = structured_llm.invoke([search_instructions]+state['messages'])\n",
    "    \n",
    "    # Search\n",
    "    search_docs = WikipediaLoader(query=search_query.search_query, \n",
    "                                  load_max_docs=2).load()\n",
    "\n",
    "     # Format\n",
    "    formatted_search_docs = \"\\n\\n---\\n\\n\".join(\n",
    "        [\n",
    "            f'<Document source=\"{doc.metadata[\"source\"]}\" page=\"{doc.metadata.get(\"page\", \"\")}\"/>\\n{doc.page_content}\\n</Document>'\n",
    "            for doc in search_docs\n",
    "        ]\n",
    "    )\n",
    "\n",
    "    return {\"context\": [formatted_search_docs]} \n",
    "\n",
    "answer_instructions = \"\"\"You are an expert being interviewed by an interviewer.\n",
    "\n",
    "Here is the interviewer area of focus: {goals}. \n",
    "        \n",
    "You goal is to answer a question posed by the interviewer.\n",
    "\n",
    "To answer question, use this context:\n",
    "        \n",
    "{context}\n",
    "\n",
    "When answering questions, follow these guidelines:\n",
    "        \n",
    "1. Use only the information provided in the context. \n",
    "        \n",
    "2. Do not introduce external information or make assumptions beyond what is explicitly stated in the context.\n",
    "\n",
    "3. The context contain sources at the topic of each individual document.\n",
    "\n",
    "4. Include these sources your answer next to any relevant statements. For example, for source # 1 use [1]. \n",
    "\n",
    "5. List your sources in order at the bottom of your answer. [1] Source 1, [2] Source 2, etc\n",
    "        \n",
    "6. If the source is: <Document source=\"assistant/docs/llama3_1.pdf\" page=\"7\"/>' then just list: \n",
    "        \n",
    "[1] assistant/docs/llama3_1.pdf, page 7 \n",
    "        \n",
    "And skip the addition of the brackets as well as the Document source preamble in your citation.\"\"\"\n",
    "\n",
    "def generate_answer(state: InterviewState):\n",
    "    \n",
    "    \"\"\" Node to answer a question \"\"\"\n",
    "\n",
    "    # Get state\n",
    "    interviewer = state[\"interviewer\"]\n",
    "    messages = state[\"messages\"]\n",
    "    context = state[\"context\"]\n",
    "\n",
    "    # Answer question\n",
    "    system_message = answer_instructions.format(goals=interviewer.persona, context=context)\n",
    "    answer = llm.invoke([SystemMessage(content=system_message)]+messages)\n",
    "            \n",
    "    # Name the message as coming from the expert\n",
    "    answer.name = \"expert\"\n",
    "    \n",
    "    # Append it to state\n",
    "    return {\"messages\": [answer]}\n",
    "\n",
    "def save_interview(state: InterviewState):\n",
    "    \n",
    "    \"\"\" Save interviews \"\"\"\n",
    "\n",
    "    # Get messages\n",
    "    messages = state[\"messages\"]\n",
    "    \n",
    "    # Convert interview to a string\n",
    "    interview = get_buffer_string(messages)\n",
    "    \n",
    "    # Save to interviews key\n",
    "    return {\"interview\": interview}\n",
    "\n",
    "def route_messages(state: InterviewState, \n",
    "                   name: str = \"expert\"):\n",
    "\n",
    "    \"\"\" Route between question and answer \"\"\"\n",
    "    \n",
    "    # Get messages\n",
    "    messages = state[\"messages\"]\n",
    "    max_num_turns = state.get('max_num_turns',2)\n",
    "\n",
    "    # Check the number of expert answers \n",
    "    num_responses = len(\n",
    "        [m for m in messages if isinstance(m, AIMessage) and m.name == name]\n",
    "    )\n",
    "\n",
    "    # End if expert has answered more than the max turns\n",
    "    if num_responses >= max_num_turns:\n",
    "        return 'save_interview'\n",
    "\n",
    "    # This router is run after each question - answer pair \n",
    "    # Get the last question asked to check if it signals the end of discussion\n",
    "    last_question = messages[-2]\n",
    "    \n",
    "    if \"Thank you so much for your help\" in last_question.content:\n",
    "        return 'save_interview'\n",
    "    return \"ask_question\"\n",
    "\n",
    "section_writer_instructions = \"\"\"You are an expert technical writer. \n",
    "            \n",
    "Your task is to create a report containing interview questions and answers based on a set of source documents.\n",
    "\n",
    "1. Analyze the content of the source documents: \n",
    "- The name of each source document is at the start of the document, with the <Document tag.\n",
    "        \n",
    "2. Create a report structure using markdown formatting:\n",
    "- Use ## for the section title\n",
    "- Use ### for sub-section headers\n",
    "        \n",
    "3. Write the report following this structure:\n",
    "a. Title (## header)\n",
    "b. Questions and Answers (### header)\n",
    "c. Sources (### header)\n",
    "\n",
    "4. Make your title engaging based upon the focus area of the interviewer: \n",
    "{focus}\n",
    "\n",
    "5. For the questions and answers section:\n",
    "- Set up questions and answers with general background / context related to the focus area of the interviewer\n",
    "- Emphasize what is novel, interesting, or surprising about insights gathered from the interview\n",
    "- Create a numbered list of source documents, as you use them\n",
    "- Do not mention the names of interviewers or experts\n",
    "- Aim for approximately 200 words maximum\n",
    "- Use numbered sources in your report (e.g., [1], [2]) based on information from source documents\n",
    "        \n",
    "6. In the Sources section:\n",
    "- Include all sources used in your report\n",
    "- Provide full links to relevant websites or specific document paths\n",
    "- Separate each source by a newline. Use two spaces at the end of each line to create a newline in Markdown.\n",
    "- It will look like:\n",
    "\n",
    "### Sources\n",
    "[1] Link or Document name\n",
    "[2] Link or Document name\n",
    "\n",
    "7. Be sure to combine sources. For example this is not correct:\n",
    "\n",
    "[3] https://ai.meta.com/blog/meta-llama-3-1/\n",
    "[4] https://ai.meta.com/blog/meta-llama-3-1/\n",
    "\n",
    "There should be no redundant sources. It should simply be:\n",
    "\n",
    "[3] https://ai.meta.com/blog/meta-llama-3-1/\n",
    "        \n",
    "8. Final review:\n",
    "- Ensure the report follows the required structure\n",
    "- Include no preamble before the title of the report\n",
    "- Check that all guidelines have been followed\"\"\"\n",
    "\n",
    "def write_section(state: InterviewState):\n",
    "\n",
    "    \"\"\" Node to answer a question \"\"\"\n",
    "\n",
    "    # Get state\n",
    "    interview = state[\"interview\"]\n",
    "    context = state[\"context\"]\n",
    "    interviewer = state[\"interviewer\"]\n",
    "   \n",
    "    # Write section using either the gathered source docs from interview (context) or the interview itself (interview)\n",
    "    system_message = section_writer_instructions.format(focus=interviewer.description)\n",
    "    section = llm.invoke([SystemMessage(content=system_message)]+[HumanMessage(content=f\"Use this source to write your section: {context}\")]) \n",
    "                \n",
    "    # Append it to state\n",
    "    return {\"sections\": [section.content]}\n",
    "\n",
    "# Add nodes and edges \n",
    "interview_builder = StateGraph(InterviewState)\n",
    "interview_builder.add_node(\"ask_question\", generate_question)\n",
    "interview_builder.add_node(\"search_web\", search_web)\n",
    "interview_builder.add_node(\"search_wikipedia\", search_wikipedia)\n",
    "interview_builder.add_node(\"answer_question\", generate_answer)\n",
    "interview_builder.add_node(\"save_interview\", save_interview)\n",
    "interview_builder.add_node(\"write_section\", write_section)\n",
    "\n",
    "# Flow\n",
    "interview_builder.add_edge(START, \"ask_question\")\n",
    "interview_builder.add_edge(\"ask_question\", \"search_web\")\n",
    "interview_builder.add_edge(\"ask_question\", \"search_wikipedia\")\n",
    "interview_builder.add_edge(\"search_web\", \"answer_question\")\n",
    "interview_builder.add_edge(\"search_wikipedia\", \"answer_question\")\n",
    "interview_builder.add_conditional_edges(\"answer_question\", route_messages,['ask_question','save_interview'])\n",
    "interview_builder.add_edge(\"save_interview\", \"write_section\")\n",
    "interview_builder.add_edge(\"write_section\", END)\n",
    "\n",
    "# Interview \n",
    "memory = MemorySaver()\n",
    "interview_graph = interview_builder.compile(checkpointer=memory).with_config(run_name=\"Conduct Interviews\")\n",
    "\n",
    "# View\n",
    "display(Image(interview_graph.get_graph().draw_mermaid_png()))"
   ]
  },
  {
   "cell_type": "code",
   "execution_count": 20,
   "id": "3ec409d5-37d4-4944-ac72-11107d5b1b8a",
   "metadata": {},
   "outputs": [
    {
     "data": {
      "text/plain": [
       "Interviewer(affiliation='Tech Innovations Inc.', name='Dr. Emily Carter', role='AI Researcher', description='Dr. Carter focuses on the intersection of AI and natural language processing, exploring how LangGraph can enhance communication and understanding in AI systems.')"
      ]
     },
     "execution_count": 20,
     "metadata": {},
     "output_type": "execute_result"
    }
   ],
   "source": [
    "# Pick one analyst\n",
    "interviewers[0]"
   ]
  },
  {
   "cell_type": "code",
   "execution_count": 23,
   "id": "610bd5b9-9d72-4975-b74f-ff746d38f96d",
   "metadata": {},
   "outputs": [
    {
     "data": {
      "text/markdown": [
       "## Enhancing AI Communication: Insights from LangGraph\n",
       "\n",
       "### Questions and Answers\n",
       "\n",
       "1. **What is LangGraph and how does it function?**  \n",
       "   LangGraph is a tool that models interactions as cyclical graphs, enabling the creation of complex workflows with multiple loops and conditional statements. This structure allows developers to orchestrate interactions among multiple Large Language Model (LLM) agents, ensuring efficient communication and task execution [1][3].\n",
       "\n",
       "2. **What are the advantages of using LangGraph in AI applications?**  \n",
       "   LangGraph extends the capabilities of the LangChain library, facilitating the development of stateful, multi-actor applications. Its cyclical graph representation allows for sophisticated state management and integration with external tools, enhancing the overall functionality of AI systems [2][4].\n",
       "\n",
       "3. **What challenges does LangGraph present to developers?**  \n",
       "   While LangGraph offers advanced features, it also comes with a higher entry barrier due to its complexity. Developers may need to invest time in understanding its graph-based approach to fully leverage its capabilities [1][3].\n",
       "\n",
       "4. **How does LangGraph compare to other AI frameworks?**  \n",
       "   Unlike other frameworks, LangGraph is fully integrated into the LangChain ecosystem, allowing users to benefit from its extensive integrations and observability features. This integration is crucial for building robust LLM workflows that require cycles [4][5].\n",
       "\n",
       "### Sources\n",
       "[1] https://towardsdatascience.com/from-basics-to-advanced-exploring-langgraph-e8c1cf4db787  \n",
       "[2] https://medium.com/@cplog/introduction-to-langgraph-a-beginners-guide-14f9be027141  \n",
       "[3] https://blog.futuresmart.ai/langgraph-tutorial-for-beginners  \n",
       "[4] https://blog.langchain.dev/langgraph-multi-agent-workflows/  \n",
       "[5] https://en.wikipedia.org/wiki/Applications_of_artificial_intelligence  "
      ],
      "text/plain": [
       "<IPython.core.display.Markdown object>"
      ]
     },
     "execution_count": 23,
     "metadata": {},
     "output_type": "execute_result"
    }
   ],
   "source": [
    "from IPython.display import Markdown\n",
    "messages = [HumanMessage(f\"So you said you were collecting technical questions and answers on {topic}?\")]\n",
    "thread = {\"configurable\": {\"thread_id\": \"dd001\"}}\n",
    "interview = interview_graph.invoke({\"interviewer\": interviewers[0], \"messages\": messages, \"max_num_turns\": 2}, thread)\n",
    "Markdown(interview['sections'][0])"
   ]
  },
  {
   "cell_type": "markdown",
   "id": "bec61292-85e4-474e-92d9-8865f9db345e",
   "metadata": {},
   "source": [
    "# Final report"
   ]
  },
  {
   "cell_type": "code",
   "execution_count": 24,
   "id": "a2f7b126-8ef2-4767-b4f7-ccbc7366e37e",
   "metadata": {},
   "outputs": [],
   "source": [
    "import operator\n",
    "from typing import List, Annotated\n",
    "from typing_extensions import TypedDict\n",
    "\n",
    "class ResearchGraphState(TypedDict):\n",
    "    topic: str # Research topic\n",
    "    max_interviewers: int # Number of interviewers\n",
    "    human_interviewer_feedback: str # Human feedback\n",
    "    interviewers: List[Interviewer] # Interviewer asking questions\n",
    "    sections: Annotated[list, operator.add] # Send() API key\n",
    "    introduction: str # Introduction for the final report\n",
    "    content: str # Content for the final report\n",
    "    conclusion: str # Conclusion for the final report\n",
    "    final_report: str # Final report"
   ]
  },
  {
   "cell_type": "code",
   "execution_count": 26,
   "id": "f253a144-6bdd-47c6-bf62-bf8b6b7d624d",
   "metadata": {},
   "outputs": [
    {
     "data": {
      "image/jpeg": "[encoded data removed]",
      "text/plain": [
       "<IPython.core.display.Image object>"
      ]
     },
     "metadata": {},
     "output_type": "display_data"
    }
   ],
   "source": [
    "from langgraph.constants import Send\n",
    "\n",
    "def initiate_all_interviews(state: ResearchGraphState):\n",
    "    \"\"\" This is the \"map\" step where we run each interview sub-graph using Send API \"\"\"    \n",
    "\n",
    "    # Check if human feedback\n",
    "    human_interviewer_feedback=state.get('human_interviewer_feedback')\n",
    "    if human_interviewer_feedback:\n",
    "        # Return to create_analysts\n",
    "        return \"create_interviewers\"\n",
    "\n",
    "    # Otherwise kick off interviews in parallel via Send() API\n",
    "    else:\n",
    "        topic = state[\"topic\"]\n",
    "        return [Send(\"conduct_interview\", {\"interviewer\": interviewer,\n",
    "                                           \"messages\": [HumanMessage(\n",
    "                                               content=f\"So you said you were collecting technical questions and answers on {topic}?\"\n",
    "                                           )\n",
    "                                                       ]}) for interviewer in state[\"interviewers\"]]\n",
    "\n",
    "report_writer_instructions = \"\"\"You are a technical writer creating a report on this overall topic: \n",
    "\n",
    "{topic}\n",
    "    \n",
    "You have a team of interviewers. Each interviewer has done two things: \n",
    "\n",
    "1. They conducted an interview with an expert on a specific sub-topic.\n",
    "2. They write up their findings into questions and answers.\n",
    "\n",
    "Your task: \n",
    "\n",
    "1. You will be given a collection of questions and answers from your interviewers.\n",
    "2. Think carefully about the insights from each questions and answers.\n",
    "3. Collect these questions and answers.\n",
    "\n",
    "To format your report:\n",
    " \n",
    "1. Use markdown formatting. \n",
    "2. Include no pre-amble for the report.\n",
    "3. Use no sub-heading. \n",
    "4. Start your report with a single title header: ## Questions and Answers\n",
    "5. Do not mention any interviewer names in your report.\n",
    "6. Preserve any citations in the memos, which will be annotated in brackets, for example [1] or [2].\n",
    "7. Create a final, consolidated list of sources and add to a Sources section with the `## Sources` header.\n",
    "8. List your sources in order and do not repeat.\n",
    "\n",
    "[1] Source 1\n",
    "[2] Source 2\n",
    "\n",
    "Here are the questions and answers from your analysts to build your report from: \n",
    "\n",
    "{context}\"\"\"\n",
    "\n",
    "def write_report(state: ResearchGraphState):\n",
    "    # Full set of sections\n",
    "    sections = state[\"sections\"]\n",
    "    topic = state[\"topic\"]\n",
    "\n",
    "    # Concat all sections together\n",
    "    formatted_str_sections = \"\\n\\n\".join([f\"{section}\" for section in sections])\n",
    "    \n",
    "    # Summarize the sections into a final report\n",
    "    system_message = report_writer_instructions.format(topic=topic, context=formatted_str_sections)    \n",
    "    report = llm.invoke([SystemMessage(content=system_message)]+[HumanMessage(content=f\"Write a report based upon these questions and answers.\")]) \n",
    "    return {\"content\": report.content}\n",
    "\n",
    "intro_conclusion_instructions = \"\"\"You are a technical writer finishing a report on {topic}\n",
    "\n",
    "You will be given all of the sections of the report.\n",
    "\n",
    "You job is to write a crisp and compelling introduction or conclusion section.\n",
    "\n",
    "The user will instruct you whether to write the introduction or conclusion.\n",
    "\n",
    "Include no pre-amble for either section.\n",
    "\n",
    "Target around 100 words, crisply previewing (for introduction) or recapping (for conclusion) all of the sections of the report.\n",
    "\n",
    "Use markdown formatting. \n",
    "\n",
    "For your introduction, create a compelling title and use the # header for the title.\n",
    "\n",
    "For your introduction, use ## Introduction as the section header. \n",
    "\n",
    "For your conclusion, use ## Conclusion as the section header.\n",
    "\n",
    "Here are the sections to reflect on for writing: {formatted_str_sections}\"\"\"\n",
    "\n",
    "def write_introduction(state: ResearchGraphState):\n",
    "    # Full set of sections\n",
    "    sections = state[\"sections\"]\n",
    "    topic = state[\"topic\"]\n",
    "\n",
    "    # Concat all sections together\n",
    "    formatted_str_sections = \"\\n\\n\".join([f\"{section}\" for section in sections])\n",
    "    \n",
    "    # Summarize the sections into a final report\n",
    "    \n",
    "    instructions = intro_conclusion_instructions.format(topic=topic, formatted_str_sections=formatted_str_sections)    \n",
    "    intro = llm.invoke([instructions]+[HumanMessage(content=f\"Write the report introduction\")]) \n",
    "    return {\"introduction\": intro.content}\n",
    "\n",
    "def write_conclusion(state: ResearchGraphState):\n",
    "    # Full set of sections\n",
    "    sections = state[\"sections\"]\n",
    "    topic = state[\"topic\"]\n",
    "\n",
    "    # Concat all sections together\n",
    "    formatted_str_sections = \"\\n\\n\".join([f\"{section}\" for section in sections])\n",
    "    \n",
    "    # Summarize the sections into a final report\n",
    "    \n",
    "    instructions = intro_conclusion_instructions.format(topic=topic, formatted_str_sections=formatted_str_sections)    \n",
    "    conclusion = llm.invoke([instructions]+[HumanMessage(content=f\"Write the report conclusion\")]) \n",
    "    return {\"conclusion\": conclusion.content}\n",
    "\n",
    "def finalize_report(state: ResearchGraphState):\n",
    "    \"\"\" The is the \"reduce\" step where we gather all the sections, combine them, and reflect on them to write the intro/conclusion \"\"\"\n",
    "    # Save full final report\n",
    "    content = state[\"content\"]\n",
    "    if content.startswith(\"## Questions and Answers\"):\n",
    "        content = content.strip(\"## Questions and Answers\")\n",
    "    if \"## Sources\" in content:\n",
    "        try:\n",
    "            content, sources = content.split(\"\\n## Sources\\n\")\n",
    "        except:\n",
    "            sources = None\n",
    "    else:\n",
    "        sources = None\n",
    "\n",
    "    final_report = state[\"introduction\"] + \"\\n\\n---\\n\\n\" + content + \"\\n\\n---\\n\\n\" + state[\"conclusion\"]\n",
    "    if sources is not None:\n",
    "        final_report += \"\\n\\n## Sources\\n\" + sources\n",
    "    return {\"final_report\": final_report}\n",
    "\n",
    "# Add nodes and edges \n",
    "builder = StateGraph(ResearchGraphState)\n",
    "builder.add_node(\"create_interviewers\", create_interviewers)\n",
    "builder.add_node(\"human_feedback\", human_feedback)\n",
    "builder.add_node(\"conduct_interview\", interview_builder.compile())\n",
    "builder.add_node(\"write_report\",write_report)\n",
    "builder.add_node(\"write_introduction\",write_introduction)\n",
    "builder.add_node(\"write_conclusion\",write_conclusion)\n",
    "builder.add_node(\"finalize_report\",finalize_report)\n",
    "\n",
    "# Logic\n",
    "builder.add_edge(START, \"create_interviewers\")\n",
    "builder.add_edge(\"create_interviewers\", \"human_feedback\")\n",
    "builder.add_conditional_edges(\"human_feedback\", initiate_all_interviews, [\"create_interviewers\", \"conduct_interview\"])\n",
    "builder.add_edge(\"conduct_interview\", \"write_report\")\n",
    "builder.add_edge(\"conduct_interview\", \"write_introduction\")\n",
    "builder.add_edge(\"conduct_interview\", \"write_conclusion\")\n",
    "builder.add_edge([\"write_conclusion\", \"write_report\", \"write_introduction\"], \"finalize_report\")\n",
    "builder.add_edge(\"finalize_report\", END)\n",
    "\n",
    "# Compile\n",
    "memory = MemorySaver()\n",
    "graph = builder.compile(interrupt_before=['human_feedback'], checkpointer=memory)\n",
    "display(Image(graph.get_graph(xray=1).draw_mermaid_png()))\n"
   ]
  },
  {
   "cell_type": "code",
   "execution_count": 30,
   "id": "4ac907a2-f5fc-49c6-a253-f6e5ff28b9b1",
   "metadata": {},
   "outputs": [
    {
     "name": "stdout",
     "output_type": "stream",
     "text": [
      "Name: Dr. Emily Chen\n",
      "Affiliation: LangGraph Research Institute\n",
      "Role: AI Researcher\n",
      "Description: Dr. Chen focuses on the development of AI algorithms and their applications in natural language processing. She is particularly interested in how LangGraph can enhance language understanding and generation.\n",
      "----------------------------------------------------------------------------------------------------\n",
      "Name: Mr. David Patel\n",
      "Affiliation: Tech Innovations Inc.\n",
      "Role: Product Manager\n",
      "Description: Mr. Patel oversees the integration of AI technologies into consumer products. He is keen on exploring how LangGraph can be utilized to improve user experience and engagement in tech applications.\n",
      "----------------------------------------------------------------------------------------------------\n",
      "Name: Prof. Sarah Johnson\n",
      "Affiliation: University of Linguistics\n",
      "Role: Linguist\n",
      "Description: Prof. Johnson studies the intersection of language and technology. She aims to investigate the implications of LangGraph on linguistic diversity and the preservation of languages in the digital age.\n",
      "----------------------------------------------------------------------------------------------------\n"
     ]
    }
   ],
   "source": [
    "# Inputs\n",
    "max_interviewers = 3 \n",
    "topic = \"LangGraph  overview\"\n",
    "thread = {\"configurable\": {\"thread_id\": \"dd001\"}}\n",
    "\n",
    "# Run the graph until the first interruption\n",
    "for event in graph.stream({\"topic\":topic,\n",
    "                           \"max_interviewers\":max_interviewers}, \n",
    "                          thread, \n",
    "                          stream_mode=\"values\"):\n",
    "    \n",
    "    interviewers = event.get('interviewers', '')\n",
    "    if interviewers:\n",
    "        for interviewer in interviewers:\n",
    "            print(f\"Name: {interviewer.name}\")\n",
    "            print(f\"Affiliation: {interviewer.affiliation}\")\n",
    "            print(f\"Role: {interviewer.role}\")\n",
    "            print(f\"Description: {interviewer.description}\")\n",
    "            print(\"-\" * 100)  "
   ]
  },
  {
   "cell_type": "code",
   "execution_count": 31,
   "id": "1b928fac-9050-4d26-a3d4-4970a5e969cd",
   "metadata": {},
   "outputs": [
    {
     "data": {
      "text/plain": [
       "{'configurable': {'thread_id': 'dd001',\n",
       "  'checkpoint_ns': '',\n",
       "  'checkpoint_id': '1ef8cced-980e-6e5d-8002-8d6e6fc1868b'}}"
      ]
     },
     "execution_count": 31,
     "metadata": {},
     "output_type": "execute_result"
    }
   ],
   "source": [
    "# Confirm we are happy\n",
    "graph.update_state(thread, {\"human_interviewer_feedback\": \n",
    "                            None}, as_node=\"human_feedback\")"
   ]
  },
  {
   "cell_type": "code",
   "execution_count": 32,
   "id": "915b8484-a8cc-4da2-83e0-5bea6b2c818f",
   "metadata": {},
   "outputs": [
    {
     "name": "stdout",
     "output_type": "stream",
     "text": [
      "--Node--\n",
      "conduct_interview\n",
      "--Node--\n",
      "conduct_interview\n",
      "--Node--\n",
      "conduct_interview\n",
      "--Node--\n",
      "write_introduction\n",
      "--Node--\n",
      "write_conclusion\n",
      "--Node--\n",
      "write_report\n",
      "--Node--\n",
      "finalize_report\n"
     ]
    }
   ],
   "source": [
    "# Continue\n",
    "for event in graph.stream(None, thread, stream_mode=\"updates\"):\n",
    "    print(\"--Node--\")\n",
    "    node_name = next(iter(event.keys()))\n",
    "    print(node_name)"
   ]
  },
  {
   "cell_type": "code",
   "execution_count": 33,
   "id": "bcf96ad6-588a-4685-a6c6-5a288a734767",
   "metadata": {},
   "outputs": [
    {
     "data": {
      "text/markdown": [
       "# Unlocking the Potential of LangGraph\n",
       "\n",
       "## Introduction\n",
       "\n",
       "LangGraph is revolutionizing the landscape of Large Language Models (LLMs) by providing a robust framework for building stateful, multi-actor applications. This report delves into the unique features of LangGraph, including its ability to create cyclical workflows that enhance agent adaptability and learning. We explore how LangGraph facilitates the development of efficient multi-agent workflows, bridging the gap between advanced AI capabilities and practical application development. Additionally, we examine its role in promoting linguistic diversity and supporting the creation of production-ready AI applications, ultimately enhancing user experiences across various tech domains.\n",
       "\n",
       "---\n",
       "\n",
       "\n",
       "\n",
       "1. **What is LangGraph and how does it differ from other LLM frameworks?**  \n",
       "   LangGraph is a library designed for building stateful, multi-actor applications with Large Language Models (LLMs). Its core benefits include cycles, controllability, and persistence, which are essential for agentic architectures. Unlike other frameworks, LangGraph allows for the creation of cyclical graphs, enabling more complex interactions among multiple agents [1][2].\n",
       "\n",
       "2. **How does LangGraph facilitate the development of multi-agent workflows?**  \n",
       "   LangGraph simplifies the coordination and execution of multiple LLM agents by providing a structured framework. This allows developers to create workflows that can handle various tasks simultaneously, enhancing the overall efficiency of applications [3][4].\n",
       "\n",
       "3. **What are the implications of using cycles in agent workflows?**  \n",
       "   The ability to define flows that involve cycles is crucial for developing robust agent architectures. This feature allows agents to revisit previous states, making them more adaptable and capable of learning from past interactions, which is a significant advancement in AI applications [1][5].\n",
       "\n",
       "4. **What is LangGraph and how does it relate to AI agents?**  \n",
       "   LangGraph is a tool compatible with LangChain V2, specifically designed for developing advanced AI agents, particularly research agents. These agents can provide detailed, multi-step responses by referencing various data sources, enhancing the depth of user interactions and engagement in tech applications [1].\n",
       "\n",
       "5. **How does LangGraph improve the development of production-ready AI applications?**  \n",
       "   LangGraph offers a framework that bridges the gap between the capabilities of large language models (LLMs) and the practical requirements of real-world software development. This allows developers to create controlled, production-ready AI applications that can be integrated seamlessly into consumer products [2].\n",
       "\n",
       "6. **What are the key benefits of using LangGraph in AI applications?**  \n",
       "   By breaking tasks into smaller, manageable components, LangGraph facilitates easier debugging and flexibility in integrating tools and LLMs. This modular approach not only enhances the development process but also leads to more intelligent, context-aware AI systems that significantly improve user interactions [3].\n",
       "\n",
       "7. **What is LangGraph and how does it contribute to linguistic diversity?**  \n",
       "   LangGraph is a library designed for building stateful, multi-actor applications using Large Language Models (LLMs). It enhances the LangChain ecosystem by allowing the coordination of multiple chains, which can facilitate the development of applications that support various languages and dialects, thereby promoting linguistic diversity in digital spaces [1][2].\n",
       "\n",
       "8. **What are the unique features of LangGraph that set it apart from other frameworks?**  \n",
       "   LangGraph offers core benefits such as cycles, controllability, and persistence. These features enable developers to create complex workflows that can adapt and evolve, which is crucial for applications that aim to preserve and promote lesser-known languages in the digital age [1][3].\n",
       "\n",
       "9. **How does LangGraph support the preservation of languages?**  \n",
       "   By enabling the creation of conversational agents and multi-step applications, LangGraph can be utilized to develop tools that engage users in their native languages, thus fostering an environment where these languages can thrive and be documented [4][5].\n",
       "\n",
       "\n",
       "---\n",
       "\n",
       "## Conclusion\n",
       "\n",
       "LangGraph emerges as a transformative tool in the realm of Large Language Models (LLMs), offering unique capabilities that enhance language understanding and user experience. By facilitating the development of stateful, multi-agent workflows, it allows for complex interactions and adaptability through cyclical processes. This modular approach not only streamlines the creation of production-ready AI applications but also promotes linguistic diversity by supporting various languages and dialects. As LangGraph continues to evolve, its potential to foster intelligent, context-aware systems positions it as a pivotal player in the future of AI technologies.\n",
       "\n",
       "## Sources\n",
       "[1] https://github.com/langchain-ai/langgraph  \n",
       "[2] https://www.datacamp.com/tutorial/langgraph-tutorial  \n",
       "[3] https://medium.com/@cplog/introduction-to-langgraph-a-beginners-guide-14f9be027141  \n",
       "[4] https://blog.langchain.dev/langgraph-multi-agent-workflows/  \n",
       "[5] https://towardsdatascience.com/from-basics-to-advanced-exploring-langgraph-e8c1cf4db787  \n",
       "[6] https://www.geeky-gadgets.com/using-langgraph-to-build-ai-agents/  \n",
       "[7] https://opendatascience.com/langgraph-the-future-of-production-ready-ai-agents/  \n",
       "[8] https://medium.com/cyberark-engineering/building-production-ready-ai-agents-with-langgraph-a-real-life-use-case-7bda34c7f4e4  \n",
       "[9] https://pypi.org/project/langgraph/  \n",
       "[10] https://medium.com/@gopiariv/langgraph-a-beginners-guide-to-building-ai-workflows-e500965f2ef9  \n",
       "[11] https://github.com/langchain-ai/langgraph-exampl"
      ],
      "text/plain": [
       "<IPython.core.display.Markdown object>"
      ]
     },
     "execution_count": 33,
     "metadata": {},
     "output_type": "execute_result"
    }
   ],
   "source": [
    "from IPython.display import Markdown\n",
    "final_state = graph.get_state(thread)\n",
    "report = final_state.values.get('final_report')\n",
    "Markdown(report)"
   ]
  },
  {
   "cell_type": "code",
   "execution_count": null,
   "id": "dee2646b-6890-4c08-a659-f15565fbe7bc",
   "metadata": {},
   "outputs": [],
   "source": []
  }
 ],
 "metadata": {
  "kernelspec": {
   "display_name": "Python 3 (ipykernel)",
   "language": "python",
   "name": "python3"
  },
  "language_info": {
   "codemirror_mode": {
    "name": "ipython",
    "version": 3
   },
   "file_extension": ".py",
   "mimetype": "text/x-python",
   "name": "python",
   "nbconvert_exporter": "python",
   "pygments_lexer": "ipython3",
   "version": "3.11.9"
  }
 },
 "nbformat": 4,
 "nbformat_minor": 5
}
