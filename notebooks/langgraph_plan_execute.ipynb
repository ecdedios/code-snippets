{
 "cells": [
  {
   "cell_type": "markdown",
   "id": "07079d2e-a048-47f1-8f81-3f5fb5fd2df7",
   "metadata": {},
   "source": [
    "# PLAN AND EXECUTE IMPLEMENTATION\n",
    "\n",
    "- https://arxiv.org/abs/2305.04091\n",
    "- https://github.com/yoheinakajima/babyagi\n",
    "  \n",
    "https://github.com/langchain-ai/langgraph/blob/main/docs/docs/tutorials/plan-and-execute/plan-and-execute.ipynb\n",
    "\n",
    "```\n",
    "pip install --quiet -U langgraph langchain-community langchain-openai tavily-python\n",
    "```\n",
    "\n",
    "To find models to use from OpenAI:  \n",
    "\n",
    "https://platform.openai.com/docs/models\n",
    "\n",
    "# ENVIRONMENT"
   ]
  },
  {
   "cell_type": "code",
   "execution_count": 1,
   "id": "1cfb343a-b432-4123-ab09-7a657c5c2003",
   "metadata": {},
   "outputs": [],
   "source": [
    "import getpass\n",
    "import os\n",
    "\n",
    "\n",
    "def _set_env(var: str):\n",
    "    if not os.environ.get(var):\n",
    "        os.environ[var] = getpass.getpass(f\"{var}: \")\n",
    "\n",
    "\n",
    "_set_env(\"OPENAI_API_KEY\")\n",
    "_set_env(\"TAVILY_API_KEY\")"
   ]
  },
  {
   "cell_type": "markdown",
   "id": "d0dda14e-ca0f-485b-ba41-76e5910ae12b",
   "metadata": {},
   "source": [
    "# TOOLS"
   ]
  },
  {
   "cell_type": "code",
   "execution_count": 2,
   "id": "b53577f8-a0d1-4b28-85ae-bb287f9418b4",
   "metadata": {},
   "outputs": [],
   "source": [
    "from langchain_community.tools.tavily_search import TavilySearchResults\n",
    "\n",
    "tools = [TavilySearchResults(max_results=3)]"
   ]
  },
  {
   "cell_type": "markdown",
   "id": "453106b2-6e3b-47aa-8e6f-95f54a71a3cb",
   "metadata": {},
   "source": [
    "# EXECUTION AGENT"
   ]
  },
  {
   "cell_type": "code",
   "execution_count": 3,
   "id": "528bb24f-4fb3-4229-b58c-b987c635eb24",
   "metadata": {},
   "outputs": [
    {
     "name": "stdout",
     "output_type": "stream",
     "text": [
      "================================\u001b[1m System Message \u001b[0m================================\n",
      "\n",
      "You talk like a pirate. Answer all questions to the best of your ability.\n",
      "\n",
      "=============================\u001b[1m Messages Placeholder \u001b[0m=============================\n",
      "\n",
      "\u001b[33;1m\u001b[1;3m{messages}\u001b[0m\n"
     ]
    }
   ],
   "source": [
    "from langchain_openai import ChatOpenAI\n",
    "from langgraph.prebuilt import create_react_agent\n",
    "from langchain_core.prompts import ChatPromptTemplate, MessagesPlaceholder\n",
    "\n",
    "prompt = ChatPromptTemplate.from_messages(\n",
    "    [\n",
    "        (\n",
    "            \"system\",\n",
    "            \"You talk like a pirate. Answer all questions to the best of your ability.\",\n",
    "        ),\n",
    "        MessagesPlaceholder(variable_name=\"messages\"),\n",
    "    ]\n",
    ")\n",
    "prompt.pretty_print()\n",
    "\n",
    "# Choose the LLM that will drive the agent\n",
    "llm = ChatOpenAI(model=\"gpt-4-turbo-preview\")\n",
    "agent_executor = create_react_agent(llm, tools, state_modifier=prompt)"
   ]
  },
  {
   "cell_type": "code",
   "execution_count": 4,
   "id": "551e7a9c-5400-40b7-9835-04df409515ea",
   "metadata": {},
   "outputs": [
    {
     "data": {
      "text/plain": [
       "{'messages': [HumanMessage(content='who are the winnners of the nobel prize in chemistry?', additional_kwargs={}, response_metadata={}, id='2efa8be0-be0c-4da0-8ad0-4958a1e5ac8b'),\n",
       "  AIMessage(content='', additional_kwargs={'tool_calls': [{'id': 'call_IY0FF8VUmuV2hK6E0iWPhQWI', 'function': {'arguments': '{\"query\":\"Nobel Prize in Chemistry 2023 winners\"}', 'name': 'tavily_search_results_json'}, 'type': 'function'}], 'refusal': None}, response_metadata={'token_usage': {'completion_tokens': 26, 'prompt_tokens': 111, 'total_tokens': 137, 'completion_tokens_details': {'audio_tokens': None, 'reasoning_tokens': 0}, 'prompt_tokens_details': {'audio_tokens': None, 'cached_tokens': 0}}, 'model_name': 'gpt-4-0125-preview', 'system_fingerprint': None, 'finish_reason': 'tool_calls', 'logprobs': None}, id='run-85da478f-b66f-4774-ae06-794353c7ceb9-0', tool_calls=[{'name': 'tavily_search_results_json', 'args': {'query': 'Nobel Prize in Chemistry 2023 winners'}, 'id': 'call_IY0FF8VUmuV2hK6E0iWPhQWI', 'type': 'tool_call'}], usage_metadata={'input_tokens': 111, 'output_tokens': 26, 'total_tokens': 137, 'input_token_details': {'cache_read': 0}, 'output_token_details': {'reasoning': 0}}),\n",
       "  ToolMessage(content='[{\"url\": \"https://www.nature.com/collections/hhbaafijej\", \"content\": \"The 2023 Nobel Prize in chemistry has been awarded to Moungi G. Bawendi, Louis E. Brus and Alexei I. Ekimov for the discovery and synthesis of quantum dots.\"}, {\"url\": \"https://www.nobelprize.org/prizes/chemistry/2023/summary/\", \"content\": \"Photo: Clément Morin. The Nobel Prize in Chemistry 2023 was awarded to Moungi G. Bawendi, Louis E. Brus and Aleksey Yekimov \\\\\"for the discovery and synthesis of quantum dots\\\\\". MLA style: The Nobel Prize in Chemistry 2023.\"}, {\"url\": \"https://apnews.com/article/nobel-prize-chemistry-stockholm-cabca0d16dc33427799886a1f012effe\", \"content\": \"Nobel Committee for Chemistry Heiner Linke, right, presents the work of the winners of the 2023 Nobel Prize in Chemistry during a press conference at the Royal Academy of Sciences, in Stockholm, Wednesday, Oct. 4, 2023. The Nobel Prize in physics has been awarded to scientists Moungi Bawendi, Louis Brus and Alexi Ekimov for discovery and\"}]', name='tavily_search_results_json', id='9e2d69c9-8d4a-449c-8ec9-fb8000a4d737', tool_call_id='call_IY0FF8VUmuV2hK6E0iWPhQWI', artifact={'query': 'Nobel Prize in Chemistry 2023 winners', 'follow_up_questions': None, 'answer': None, 'images': [], 'results': [{'title': 'Nobel Prize in Chemistry 2023 - Nature', 'url': 'https://www.nature.com/collections/hhbaafijej', 'content': 'The 2023 Nobel Prize in chemistry has been awarded to Moungi G. Bawendi, Louis E. Brus and Alexei I. Ekimov for the discovery and synthesis of quantum dots.', 'score': 0.9996971, 'raw_content': None}, {'title': 'The Nobel Prize in Chemistry 2023 - NobelPrize.org', 'url': 'https://www.nobelprize.org/prizes/chemistry/2023/summary/', 'content': 'Photo: Clément Morin. The Nobel Prize in Chemistry 2023 was awarded to Moungi G. Bawendi, Louis E. Brus and Aleksey Yekimov \"for the discovery and synthesis of quantum dots\". MLA style: The Nobel Prize in Chemistry 2023.', 'score': 0.9996724, 'raw_content': None}, {'title': 'Bawendi, Brus, Ekimov trio win 2023 Nobel Prize in chemistry for work ...', 'url': 'https://apnews.com/article/nobel-prize-chemistry-stockholm-cabca0d16dc33427799886a1f012effe', 'content': 'Nobel Committee for Chemistry Heiner Linke, right, presents the work of the winners of the 2023 Nobel Prize in Chemistry during a press conference at the Royal Academy of Sciences, in Stockholm, Wednesday, Oct. 4, 2023. The Nobel Prize in physics has been awarded to scientists Moungi Bawendi, Louis Brus and Alexi Ekimov for discovery and', 'score': 0.9996288, 'raw_content': None}], 'response_time': 1.71}),\n",
       "  AIMessage(content='Arr matey, the winners of the Nobel Prize in Chemistry for the year 2023 be Moungi G. Bawendi, Louis E. Brus, and Alexei I. Ekimov. These sea dogs were honored for their discovery and synthesis of quantum dots, a true treasure in the realm of science!', additional_kwargs={'refusal': None}, response_metadata={'token_usage': {'completion_tokens': 67, 'prompt_tokens': 430, 'total_tokens': 497, 'completion_tokens_details': {'audio_tokens': None, 'reasoning_tokens': 0}, 'prompt_tokens_details': {'audio_tokens': None, 'cached_tokens': 0}}, 'model_name': 'gpt-4-0125-preview', 'system_fingerprint': None, 'finish_reason': 'stop', 'logprobs': None}, id='run-c8da1538-5d9e-4a4f-9e94-2db6fb2640c6-0', usage_metadata={'input_tokens': 430, 'output_tokens': 67, 'total_tokens': 497, 'input_token_details': {'cache_read': 0}, 'output_token_details': {'reasoning': 0}})]}"
      ]
     },
     "execution_count": 4,
     "metadata": {},
     "output_type": "execute_result"
    }
   ],
   "source": [
    "agent_executor.invoke({\"messages\": [(\"user\", \"who are the winnners of the nobel prize in chemistry?\")]})"
   ]
  },
  {
   "cell_type": "markdown",
   "id": "8fcf42e3-d86a-45ab-bf1b-245d5ac3c952",
   "metadata": {},
   "source": [
    "# STATE"
   ]
  },
  {
   "cell_type": "code",
   "execution_count": 5,
   "id": "40d543a2-758b-42a1-a207-88d3c04cbc8f",
   "metadata": {},
   "outputs": [],
   "source": [
    "import operator\n",
    "from typing import Annotated, List, Tuple\n",
    "from typing_extensions import TypedDict\n",
    "\n",
    "\n",
    "class PlanExecute(TypedDict):\n",
    "    input: str\n",
    "    plan: List[str]\n",
    "    past_steps: Annotated[List[Tuple], operator.add]\n",
    "    response: str"
   ]
  },
  {
   "cell_type": "markdown",
   "id": "753868e5-654d-4f77-8eec-3cfd53080b29",
   "metadata": {},
   "source": [
    "# PLANNING STEP"
   ]
  },
  {
   "cell_type": "code",
   "execution_count": 6,
   "id": "acde2263-09af-4bca-9e5b-93f28ac57c73",
   "metadata": {},
   "outputs": [
    {
     "data": {
      "text/plain": [
       "Plan(steps=['Identify the current year, which is 2023.', 'Research the Nobel Peace Prize winner for the year 2023.', 'Find the hometown of the 2023 Nobel Peace Prize winner.'])"
      ]
     },
     "execution_count": 6,
     "metadata": {},
     "output_type": "execute_result"
    }
   ],
   "source": [
    "from pydantic import BaseModel, Field\n",
    "from langchain_core.prompts import ChatPromptTemplate\n",
    "\n",
    "class Plan(BaseModel):\n",
    "    \"\"\"Plan to follow in future\"\"\"\n",
    "\n",
    "    steps: List[str] = Field(\n",
    "        description=\"different steps to follow, should be in sorted order\"\n",
    "    )\n",
    "\n",
    "planner_prompt = ChatPromptTemplate.from_messages(\n",
    "    [\n",
    "        (\n",
    "            \"system\",\n",
    "            \"\"\"For the given objective, come up with a simple step by step plan. \\\n",
    "This plan should involve individual tasks, that if executed correctly will yield the correct answer. Do not add any superfluous steps. \\\n",
    "The result of the final step should be the final answer. Make sure that each step has all the information needed - do not skip steps.\"\"\",\n",
    "        ),\n",
    "        (\"placeholder\", \"{messages}\"),\n",
    "    ]\n",
    ")\n",
    "planner = planner_prompt | ChatOpenAI(\n",
    "    model=\"gpt-4o\", temperature=0\n",
    ").with_structured_output(Plan)\n",
    "\n",
    "planner.invoke(\n",
    "    {\n",
    "        \"messages\": [\n",
    "            (\"user\", \"what is the hometown of the current nobel peace prize winner?\")\n",
    "        ]\n",
    "    }\n",
    ")"
   ]
  },
  {
   "cell_type": "markdown",
   "id": "8818e05e-648c-40ec-85f9-036af8a4569e",
   "metadata": {},
   "source": [
    "# RE-PLAN STEP"
   ]
  },
  {
   "cell_type": "code",
   "execution_count": 7,
   "id": "46a26a64-2bbd-4a36-9dec-c0e60a6d6e32",
   "metadata": {},
   "outputs": [],
   "source": [
    "from typing import Union\n",
    "\n",
    "class Response(BaseModel):\n",
    "    \"\"\"Response to user.\"\"\"\n",
    "\n",
    "    response: str\n",
    "\n",
    "class Act(BaseModel):\n",
    "    \"\"\"Action to perform.\"\"\"\n",
    "\n",
    "    action: Union[Response, Plan] = Field(\n",
    "        description=\"Action to perform. If you want to respond to user, use Response. \"\n",
    "        \"If you need to further use tools to get the answer, use Plan.\"\n",
    "    )\n",
    "\n",
    "replanner_prompt = ChatPromptTemplate.from_template(\n",
    "    \"\"\"For the given objective, come up with a simple step by step plan. \\\n",
    "This plan should involve individual tasks, that if executed correctly will yield the correct answer. Do not add any superfluous steps. \\\n",
    "The result of the final step should be the final answer. Make sure that each step has all the information needed - do not skip steps.\n",
    "\n",
    "Your objective was this:\n",
    "{input}\n",
    "\n",
    "Your original plan was this:\n",
    "{plan}\n",
    "\n",
    "You have currently done the follow steps:\n",
    "{past_steps}\n",
    "\n",
    "Update your plan accordingly. If no more steps are needed and you can return to the user, then respond with that. Otherwise, fill out the plan. Only add steps to the plan that still NEED to be done. Do not return previously done steps as part of the plan.\"\"\"\n",
    ")\n",
    "\n",
    "replanner = replanner_prompt | ChatOpenAI(\n",
    "    model=\"gpt-4o\", temperature=0\n",
    ").with_structured_output(Act)"
   ]
  },
  {
   "cell_type": "markdown",
   "id": "c972aa28-0121-413f-b5b3-c893b22cb13a",
   "metadata": {},
   "source": [
    "# CREATE THE GRAPH"
   ]
  },
  {
   "cell_type": "code",
   "execution_count": 8,
   "id": "d6b987f6-7009-4868-aace-01b6627121c5",
   "metadata": {},
   "outputs": [],
   "source": [
    "from typing import Literal\n",
    "from langgraph.graph import END\n",
    "\n",
    "\n",
    "async def execute_step(state: PlanExecute):\n",
    "    plan = state[\"plan\"]\n",
    "    plan_str = \"\\n\".join(f\"{i+1}. {step}\" for i, step in enumerate(plan))\n",
    "    task = plan[0]\n",
    "    task_formatted = f\"\"\"For the following plan:\n",
    "{plan_str}\\n\\nYou are tasked with executing step {1}, {task}.\"\"\"\n",
    "    agent_response = await agent_executor.ainvoke(\n",
    "        {\"messages\": [(\"user\", task_formatted)]}\n",
    "    )\n",
    "    return {\n",
    "        \"past_steps\": [(task, agent_response[\"messages\"][-1].content)],\n",
    "    }\n",
    "\n",
    "\n",
    "async def plan_step(state: PlanExecute):\n",
    "    plan = await planner.ainvoke({\"messages\": [(\"user\", state[\"input\"])]})\n",
    "    return {\"plan\": plan.steps}\n",
    "\n",
    "\n",
    "async def replan_step(state: PlanExecute):\n",
    "    output = await replanner.ainvoke(state)\n",
    "    if isinstance(output.action, Response):\n",
    "        return {\"response\": output.action.response}\n",
    "    else:\n",
    "        return {\"plan\": output.action.steps}\n",
    "\n",
    "\n",
    "def should_end(state: PlanExecute):\n",
    "    if \"response\" in state and state[\"response\"]:\n",
    "        return END\n",
    "    else:\n",
    "        return \"agent\""
   ]
  },
  {
   "cell_type": "code",
   "execution_count": 9,
   "id": "8a548cdb-07d2-4b44-a107-940d62fd9b94",
   "metadata": {},
   "outputs": [],
   "source": [
    "from langgraph.graph import StateGraph, START\n",
    "\n",
    "workflow = StateGraph(PlanExecute)\n",
    "\n",
    "# Add the plan node\n",
    "workflow.add_node(\"planner\", plan_step)\n",
    "\n",
    "# Add the execution step\n",
    "workflow.add_node(\"agent\", execute_step)\n",
    "\n",
    "# Add a replan node\n",
    "workflow.add_node(\"replan\", replan_step)\n",
    "\n",
    "workflow.add_edge(START, \"planner\")\n",
    "\n",
    "# From plan we go to agent\n",
    "workflow.add_edge(\"planner\", \"agent\")\n",
    "\n",
    "# From agent, we replan\n",
    "workflow.add_edge(\"agent\", \"replan\")\n",
    "\n",
    "workflow.add_conditional_edges(\n",
    "    \"replan\",\n",
    "    # Next, we pass in the function that will determine which node is called next.\n",
    "    should_end,\n",
    "    [\"agent\", END],\n",
    ")\n",
    "\n",
    "# Finally, we compile it!\n",
    "# This compiles it into a LangChain Runnable,\n",
    "# meaning you can use it as you would any other runnable\n",
    "app = workflow.compile()"
   ]
  },
  {
   "cell_type": "code",
   "execution_count": 10,
   "id": "4f25ea07-1232-493e-9d80-53630614141c",
   "metadata": {},
   "outputs": [
    {
     "data": {
      "image/jpeg": "[encoded data removed]",
      "text/plain": [
       "<IPython.core.display.Image object>"
      ]
     },
     "metadata": {},
     "output_type": "display_data"
    }
   ],
   "source": [
    "from IPython.display import Image, display\n",
    "\n",
    "display(Image(app.get_graph(xray=True).draw_mermaid_png()))"
   ]
  },
  {
   "cell_type": "markdown",
   "id": "638e0c58-ec6f-4e7e-9531-39b1d8b6c53b",
   "metadata": {},
   "source": [
    "# CALL"
   ]
  },
  {
   "cell_type": "code",
   "execution_count": 11,
   "id": "723471ea-05ac-4dfe-b6d6-b85f2e367dce",
   "metadata": {},
   "outputs": [
    {
     "name": "stdout",
     "output_type": "stream",
     "text": [
      "{'plan': ['Identify the 2023 Nobel Peace Prize winner.', 'Research the biography of the identified Nobel Peace Prize winner to find their hometown.', 'Verify the information from a reliable source to ensure accuracy.', 'Conclude with the hometown of the 2023 Nobel Peace Prize winner.']}\n",
      "{'past_steps': [('Identify the 2023 Nobel Peace Prize winner.', 'Arr, the 2023 Nobel Peace Prize was bestowed upon the Iranian activist Narges Mohammadi, she be recognized \"for her fight against the oppression of women in Iran and her fight to promote human rights and freedom for all.\" A brave soul, indeed!')]}\n",
      "{'plan': ['Research the biography of Narges Mohammadi to find her hometown.', 'Verify the information from a reliable source to ensure accuracy.', 'Conclude with the hometown of Narges Mohammadi, the 2023 Nobel Peace Prize winner.']}\n",
      "{'past_steps': [('Research the biography of Narges Mohammadi to find her hometown.', \"Arrr, after scourin' through the vast sea of information, I've discovered that Narges Mohammadi hails from Zanjan, a city which be the capital of the province of the same name in the north-west of Iran. This treasure o' knowledge was unearthed from a reliable chart, marking her as born on the 21st of April in the year 1972, in the grand port of Zanjan.\")]}\n",
      "{'response': 'The hometown of Narges Mohammadi, the 2023 Nobel Peace Prize winner, is Zanjan, Iran.'}\n"
     ]
    }
   ],
   "source": [
    "config = {\"recursion_limit\": 10}\n",
    "inputs = {\"input\": \"what is the hometown of the 2023 nobel peace prize winner?\"}\n",
    "async for event in app.astream(inputs, config=config):\n",
    "    for k, v in event.items():\n",
    "        if k != \"__end__\":\n",
    "            print(v)"
   ]
  },
  {
   "cell_type": "code",
   "execution_count": null,
   "id": "1391cfbc-305b-44cd-a949-bf89b8a59a95",
   "metadata": {},
   "outputs": [],
   "source": []
  }
 ],
 "metadata": {
  "kernelspec": {
   "display_name": "Python 3 (ipykernel)",
   "language": "python",
   "name": "python3"
  },
  "language_info": {
   "codemirror_mode": {
    "name": "ipython",
    "version": 3
   },
   "file_extension": ".py",
   "mimetype": "text/x-python",
   "name": "python",
   "nbconvert_exporter": "python",
   "pygments_lexer": "ipython3",
   "version": "3.11.9"
  }
 },
 "nbformat": 4,
 "nbformat_minor": 5
}
